{
 "cells": [
  {
   "cell_type": "code",
   "execution_count": 33,
   "metadata": {},
   "outputs": [],
   "source": [
    "import pandas as pd\n",
    "from datetime import datetime"
   ]
  },
  {
   "cell_type": "code",
   "execution_count": 35,
   "metadata": {},
   "outputs": [
    {
     "data": {
      "text/html": [
       "<div>\n",
       "<style scoped>\n",
       "    .dataframe tbody tr th:only-of-type {\n",
       "        vertical-align: middle;\n",
       "    }\n",
       "\n",
       "    .dataframe tbody tr th {\n",
       "        vertical-align: top;\n",
       "    }\n",
       "\n",
       "    .dataframe thead th {\n",
       "        text-align: right;\n",
       "    }\n",
       "</style>\n",
       "<table border=\"1\" class=\"dataframe\">\n",
       "  <thead>\n",
       "    <tr style=\"text-align: right;\">\n",
       "      <th></th>\n",
       "      <th>Номер</th>\n",
       "      <th>Дата создания</th>\n",
       "      <th>Дата оплаты</th>\n",
       "      <th>Title</th>\n",
       "      <th>Статус</th>\n",
       "      <th>Заработано</th>\n",
       "      <th>Город</th>\n",
       "      <th>Платежная система</th>\n",
       "    </tr>\n",
       "  </thead>\n",
       "  <tbody>\n",
       "    <tr>\n",
       "      <th>0</th>\n",
       "      <td>1062823</td>\n",
       "      <td>01.12.2019 10:50</td>\n",
       "      <td>01.12.2019 10:52</td>\n",
       "      <td>Курс обучения «Эксперт»</td>\n",
       "      <td>Завершен</td>\n",
       "      <td>29597.50</td>\n",
       "      <td>Чита</td>\n",
       "      <td>Сбербанк эквайринг</td>\n",
       "    </tr>\n",
       "    <tr>\n",
       "      <th>1</th>\n",
       "      <td>1062855</td>\n",
       "      <td>01.12.2019 20:53</td>\n",
       "      <td>01.12.2019 21:27</td>\n",
       "      <td>Курс обучения «Эксперт»</td>\n",
       "      <td>Завершен</td>\n",
       "      <td>17450.30</td>\n",
       "      <td>Краснодар</td>\n",
       "      <td>Яндекс.Касса</td>\n",
       "    </tr>\n",
       "    <tr>\n",
       "      <th>2</th>\n",
       "      <td>1062856</td>\n",
       "      <td>01.12.2019 21:43</td>\n",
       "      <td>NaN</td>\n",
       "      <td>Курс обучения «Специалист»</td>\n",
       "      <td>Отменен</td>\n",
       "      <td>0.00</td>\n",
       "      <td>NaN</td>\n",
       "      <td>NaN</td>\n",
       "    </tr>\n",
       "    <tr>\n",
       "      <th>3</th>\n",
       "      <td>1062880</td>\n",
       "      <td>03.12.2019 0:18</td>\n",
       "      <td>NaN</td>\n",
       "      <td>Курс обучения «Консультант»</td>\n",
       "      <td>Отменен</td>\n",
       "      <td>0.00</td>\n",
       "      <td>г.Москва и Московская область</td>\n",
       "      <td>NaN</td>\n",
       "    </tr>\n",
       "    <tr>\n",
       "      <th>4</th>\n",
       "      <td>1062899</td>\n",
       "      <td>03.12.2019 21:43</td>\n",
       "      <td>NaN</td>\n",
       "      <td>Курс обучения «Эксперт»</td>\n",
       "      <td>Отменен</td>\n",
       "      <td>0.00</td>\n",
       "      <td>г.Москва и Московская область</td>\n",
       "      <td>NaN</td>\n",
       "    </tr>\n",
       "    <tr>\n",
       "      <th>...</th>\n",
       "      <td>...</td>\n",
       "      <td>...</td>\n",
       "      <td>...</td>\n",
       "      <td>...</td>\n",
       "      <td>...</td>\n",
       "      <td>...</td>\n",
       "      <td>...</td>\n",
       "      <td>...</td>\n",
       "    </tr>\n",
       "    <tr>\n",
       "      <th>287</th>\n",
       "      <td>1064720</td>\n",
       "      <td>30.12.2019 9:42</td>\n",
       "      <td>30.12.2019 12:49</td>\n",
       "      <td>Подписка «ОНЛАЙН ДИЕТОЛОГ» с ежемесячным автос...</td>\n",
       "      <td>Завершен</td>\n",
       "      <td>2935.44</td>\n",
       "      <td>Самарская область</td>\n",
       "      <td>Яндекс.Касса</td>\n",
       "    </tr>\n",
       "    <tr>\n",
       "      <th>288</th>\n",
       "      <td>1064724</td>\n",
       "      <td>30.12.2019 11:32</td>\n",
       "      <td>NaN</td>\n",
       "      <td>Курс обучения «Консультант»</td>\n",
       "      <td>Отменен</td>\n",
       "      <td>0.00</td>\n",
       "      <td>NaN</td>\n",
       "      <td>NaN</td>\n",
       "    </tr>\n",
       "    <tr>\n",
       "      <th>289</th>\n",
       "      <td>1064775</td>\n",
       "      <td>31.12.2019 2:17</td>\n",
       "      <td>31.12.2019 2:22</td>\n",
       "      <td>Курс обучения «Консультант»</td>\n",
       "      <td>Завершен</td>\n",
       "      <td>7423.92</td>\n",
       "      <td>NaN</td>\n",
       "      <td>Сбербанк эквайринг,Бонусный счет</td>\n",
       "    </tr>\n",
       "    <tr>\n",
       "      <th>290</th>\n",
       "      <td>1064793</td>\n",
       "      <td>31.12.2019 16:40</td>\n",
       "      <td>01.01.2020 14:29</td>\n",
       "      <td>Подписка «ОНЛАЙН ДИЕТОЛОГ» с ежемесячным автос...</td>\n",
       "      <td>Завершен</td>\n",
       "      <td>2935.44</td>\n",
       "      <td>Республика Карелия</td>\n",
       "      <td>Яндекс.Касса</td>\n",
       "    </tr>\n",
       "    <tr>\n",
       "      <th>291</th>\n",
       "      <td>1064796</td>\n",
       "      <td>31.12.2019 17:29</td>\n",
       "      <td>31.12.2019 17:32</td>\n",
       "      <td>Курс от Школы Диетологов. Повышение квалификац...</td>\n",
       "      <td>Завершен</td>\n",
       "      <td>9898.56</td>\n",
       "      <td>Уфа</td>\n",
       "      <td>Сбербанк эквайринг,Бонусный счет</td>\n",
       "    </tr>\n",
       "  </tbody>\n",
       "</table>\n",
       "<p>292 rows × 8 columns</p>\n",
       "</div>"
      ],
      "text/plain": [
       "       Номер     Дата создания       Дата оплаты  \\\n",
       "0    1062823  01.12.2019 10:50  01.12.2019 10:52   \n",
       "1    1062855  01.12.2019 20:53  01.12.2019 21:27   \n",
       "2    1062856  01.12.2019 21:43               NaN   \n",
       "3    1062880   03.12.2019 0:18               NaN   \n",
       "4    1062899  03.12.2019 21:43               NaN   \n",
       "..       ...               ...               ...   \n",
       "287  1064720   30.12.2019 9:42  30.12.2019 12:49   \n",
       "288  1064724  30.12.2019 11:32               NaN   \n",
       "289  1064775   31.12.2019 2:17   31.12.2019 2:22   \n",
       "290  1064793  31.12.2019 16:40  01.01.2020 14:29   \n",
       "291  1064796  31.12.2019 17:29  31.12.2019 17:32   \n",
       "\n",
       "                                                 Title    Статус  Заработано  \\\n",
       "0                              Курс обучения «Эксперт»  Завершен    29597.50   \n",
       "1                              Курс обучения «Эксперт»  Завершен    17450.30   \n",
       "2                           Курс обучения «Специалист»   Отменен        0.00   \n",
       "3                          Курс обучения «Консультант»   Отменен        0.00   \n",
       "4                              Курс обучения «Эксперт»   Отменен        0.00   \n",
       "..                                                 ...       ...         ...   \n",
       "287  Подписка «ОНЛАЙН ДИЕТОЛОГ» с ежемесячным автос...  Завершен     2935.44   \n",
       "288                        Курс обучения «Консультант»   Отменен        0.00   \n",
       "289                        Курс обучения «Консультант»  Завершен     7423.92   \n",
       "290  Подписка «ОНЛАЙН ДИЕТОЛОГ» с ежемесячным автос...  Завершен     2935.44   \n",
       "291  Курс от Школы Диетологов. Повышение квалификац...  Завершен     9898.56   \n",
       "\n",
       "                             Город                 Платежная система  \n",
       "0                             Чита                Сбербанк эквайринг  \n",
       "1                        Краснодар                      Яндекс.Касса  \n",
       "2                              NaN                               NaN  \n",
       "3    г.Москва и Московская область                               NaN  \n",
       "4    г.Москва и Московская область                               NaN  \n",
       "..                             ...                               ...  \n",
       "287              Самарская область                      Яндекс.Касса  \n",
       "288                            NaN                               NaN  \n",
       "289                            NaN  Сбербанк эквайринг,Бонусный счет  \n",
       "290             Республика Карелия                      Яндекс.Касса  \n",
       "291                            Уфа  Сбербанк эквайринг,Бонусный счет  \n",
       "\n",
       "[292 rows x 8 columns]"
      ]
     },
     "execution_count": 35,
     "metadata": {},
     "output_type": "execute_result"
    }
   ],
   "source": [
    "data"
   ]
  },
  {
   "cell_type": "code",
   "execution_count": 34,
   "metadata": {},
   "outputs": [
    {
     "data": {
      "text/html": [
       "<div>\n",
       "<style scoped>\n",
       "    .dataframe tbody tr th:only-of-type {\n",
       "        vertical-align: middle;\n",
       "    }\n",
       "\n",
       "    .dataframe tbody tr th {\n",
       "        vertical-align: top;\n",
       "    }\n",
       "\n",
       "    .dataframe thead th {\n",
       "        text-align: right;\n",
       "    }\n",
       "</style>\n",
       "<table border=\"1\" class=\"dataframe\">\n",
       "  <thead>\n",
       "    <tr style=\"text-align: right;\">\n",
       "      <th></th>\n",
       "      <th>Номер</th>\n",
       "      <th>Заработано</th>\n",
       "    </tr>\n",
       "  </thead>\n",
       "  <tbody>\n",
       "    <tr>\n",
       "      <th>count</th>\n",
       "      <td>2.920000e+02</td>\n",
       "      <td>292.000000</td>\n",
       "    </tr>\n",
       "    <tr>\n",
       "      <th>mean</th>\n",
       "      <td>1.063745e+06</td>\n",
       "      <td>3397.615034</td>\n",
       "    </tr>\n",
       "    <tr>\n",
       "      <th>std</th>\n",
       "      <td>4.438688e+02</td>\n",
       "      <td>5771.572829</td>\n",
       "    </tr>\n",
       "    <tr>\n",
       "      <th>min</th>\n",
       "      <td>1.062823e+06</td>\n",
       "      <td>0.000000</td>\n",
       "    </tr>\n",
       "    <tr>\n",
       "      <th>25%</th>\n",
       "      <td>1.063608e+06</td>\n",
       "      <td>0.000000</td>\n",
       "    </tr>\n",
       "    <tr>\n",
       "      <th>50%</th>\n",
       "      <td>1.063698e+06</td>\n",
       "      <td>2935.440000</td>\n",
       "    </tr>\n",
       "    <tr>\n",
       "      <th>75%</th>\n",
       "      <td>1.063807e+06</td>\n",
       "      <td>2935.440000</td>\n",
       "    </tr>\n",
       "    <tr>\n",
       "      <th>max</th>\n",
       "      <td>1.064796e+06</td>\n",
       "      <td>42750.000000</td>\n",
       "    </tr>\n",
       "  </tbody>\n",
       "</table>\n",
       "</div>"
      ],
      "text/plain": [
       "              Номер    Заработано\n",
       "count  2.920000e+02    292.000000\n",
       "mean   1.063745e+06   3397.615034\n",
       "std    4.438688e+02   5771.572829\n",
       "min    1.062823e+06      0.000000\n",
       "25%    1.063608e+06      0.000000\n",
       "50%    1.063698e+06   2935.440000\n",
       "75%    1.063807e+06   2935.440000\n",
       "max    1.064796e+06  42750.000000"
      ]
     },
     "execution_count": 34,
     "metadata": {},
     "output_type": "execute_result"
    }
   ],
   "source": [
    "data = pd.read_csv('lesson_2_data.csv', encoding = 'windows-1251', sep=';')\n",
    "data.describe()"
   ]
  },
  {
   "cell_type": "code",
   "execution_count": 4,
   "metadata": {},
   "outputs": [
    {
     "data": {
      "text/plain": [
       "Index(['Number', 'Creation_date', 'Payment_date', 'Title', 'Status',\n",
       "       'Money_earned', 'City', 'Payment_system'],\n",
       "      dtype='object')"
      ]
     },
     "execution_count": 4,
     "metadata": {},
     "output_type": "execute_result"
    }
   ],
   "source": [
    "data = data.rename(columns={'Номер' : 'Number' ,'Дата создания': 'Creation_date', 'Дата оплаты' : 'Payment_date',  'Статус' : 'Status',\n",
    "       'Заработано' : 'Money_earned', 'Город' : 'City', 'Платежная система' : 'Payment_system'})\n",
    "data.columns"
   ]
  },
  {
   "cell_type": "code",
   "execution_count": 5,
   "metadata": {},
   "outputs": [
    {
     "data": {
      "text/plain": [
       "Index(['Number', 'Creation_date', 'Payment_date', 'Title', 'Status',\n",
       "       'Money_earned', 'City', 'Payment_system'],\n",
       "      dtype='object')"
      ]
     },
     "execution_count": 5,
     "metadata": {},
     "output_type": "execute_result"
    }
   ],
   "source": [
    "data.columns"
   ]
  },
  {
   "cell_type": "code",
   "execution_count": 14,
   "metadata": {},
   "outputs": [
    {
     "data": {
      "text/plain": [
       "array(['Курс обучения «Эксперт»', 'Курс обучения «Специалист»',\n",
       "       'Курс обучения «Консультант»', 'Курс от Школы Диетологов. Бизнес',\n",
       "       'Курс от Школы Диетологов. Повышение квалификации. ',\n",
       "       'Подписка «ОНЛАЙН ДИЕТОЛОГ» с ежемесячным автосписанием'],\n",
       "      dtype=object)"
      ]
     },
     "execution_count": 14,
     "metadata": {},
     "output_type": "execute_result"
    }
   ],
   "source": [
    "data.Title.unique()"
   ]
  },
  {
   "cell_type": "code",
   "execution_count": 31,
   "metadata": {},
   "outputs": [],
   "source": [
    "ALL_MONEY = data.Money_earned.sum()\n",
    "ALL_MONEY"
   ]
  },
  {
   "cell_type": "code",
   "execution_count": 27,
   "metadata": {},
   "outputs": [],
   "source": [
    "money_to_city = data.query(\"Status == 'Завершен'\") \\\n",
    "                    .groupby(['Title'],\\\n",
    "                     as_index=False).aggregate({'Money_earned':'sum', 'Number' : 'count'}). \\\n",
    "                    sort_values('Money_earned')"
   ]
  },
  {
   "cell_type": "code",
   "execution_count": 30,
   "metadata": {},
   "outputs": [
    {
     "data": {
      "text/plain": [
       "992103.5900000003"
      ]
     },
     "execution_count": 30,
     "metadata": {},
     "output_type": "execute_result"
    }
   ],
   "source": [
    "# check amount of money\n",
    "ALL_MONEY_2 = money_to_city.Money_earned.sum()\n",
    "ALL_MONEY_2"
   ]
  },
  {
   "cell_type": "code",
   "execution_count": 38,
   "metadata": {},
   "outputs": [],
   "source": [
    "todays_date = datetime.today().strftime('%Y-%m-%d')"
   ]
  },
  {
   "cell_type": "code",
   "execution_count": 24,
   "metadata": {},
   "outputs": [],
   "source": [
    "money_to_city_csv = money_to_city.to_csv(index=False)"
   ]
  },
  {
   "cell_type": "code",
   "execution_count": 39,
   "metadata": {},
   "outputs": [],
   "source": [
    "filename = f'money_to_city_{todays_date}.csv'"
   ]
  },
  {
   "cell_type": "code",
   "execution_count": 40,
   "metadata": {},
   "outputs": [],
   "source": [
    "money_to_city.to_csv(filename, index=False)"
   ]
  },
  {
   "cell_type": "code",
   "execution_count": null,
   "metadata": {},
   "outputs": [],
   "source": []
  }
 ],
 "metadata": {
  "kernelspec": {
   "display_name": "Python 3",
   "language": "python",
   "name": "python3"
  },
  "language_info": {
   "codemirror_mode": {
    "name": "ipython",
    "version": 3
   },
   "file_extension": ".py",
   "mimetype": "text/x-python",
   "name": "python",
   "nbconvert_exporter": "python",
   "pygments_lexer": "ipython3",
   "version": "3.7.3"
  }
 },
 "nbformat": 4,
 "nbformat_minor": 4
}
